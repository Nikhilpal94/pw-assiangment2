{
 "cells": [
  {
   "cell_type": "markdown",
   "id": "46b26978",
   "metadata": {},
   "source": [
    "# Q1. Which keyword is used to create a function? Create a function to return a list of odd numbers in the range of 1 to 25 ?\n",
    "Ans-def keyword is used to create a fuction"
   ]
  },
  {
   "cell_type": "code",
   "execution_count": 61,
   "id": "0175a9ed",
   "metadata": {},
   "outputs": [],
   "source": [
    "#create a fuction return a odd number\n",
    "def love():\n",
    "    k=[1,2,3,4,5,6,7,8,9,10,11,12,13,14,15,16,17,18,19,20,21,22,23,24,25]\n",
    "    a=[]\n",
    "    for i in k:\n",
    "        if(i%2!=0):\n",
    "            a.append(i)\n",
    "    return(a)\n",
    "    "
   ]
  },
  {
   "cell_type": "code",
   "execution_count": 62,
   "id": "abeed9d4",
   "metadata": {},
   "outputs": [
    {
     "data": {
      "text/plain": [
       "[1, 3, 5, 7, 9, 11, 13, 15, 17, 19, 21, 23, 25]"
      ]
     },
     "execution_count": 62,
     "metadata": {},
     "output_type": "execute_result"
    }
   ],
   "source": [
    "love()"
   ]
  },
  {
   "cell_type": "markdown",
   "id": "61fe1896",
   "metadata": {},
   "source": [
    "# Q2-Why *args and **kwargs is used in some functions? Create a function each for *args and **kwargs to demonstrate their use.?\n",
    "\n",
    "Ans-Sometimes, when you look at a function definition in Python, you might see that it takes two strange arguments *args and **kwargs. If you’ve ever wondered what these peculiar variables are, or why your IDE defines them in main(), then this article is for you. You’ll learn how to use args and kwargs in Python to add more flexibility to your functions.\n"
   ]
  },
  {
   "cell_type": "code",
   "execution_count": 80,
   "id": "8b137ad0",
   "metadata": {},
   "outputs": [],
   "source": [
    "#*args example-\n",
    "def love(*args):\n",
    "    return(args)\n"
   ]
  },
  {
   "cell_type": "code",
   "execution_count": 82,
   "id": "dbe3a738",
   "metadata": {},
   "outputs": [
    {
     "data": {
      "text/plain": [
       "tuple"
      ]
     },
     "execution_count": 82,
     "metadata": {},
     "output_type": "execute_result"
    }
   ],
   "source": [
    "type(love())"
   ]
  },
  {
   "cell_type": "code",
   "execution_count": 78,
   "id": "ef29ba99",
   "metadata": {},
   "outputs": [],
   "source": [
    "#kwargs exmaple-\n",
    "def name(**kwargs):\n",
    "    return(kwargs)\n"
   ]
  },
  {
   "cell_type": "code",
   "execution_count": 79,
   "id": "62642b8d",
   "metadata": {},
   "outputs": [
    {
     "data": {
      "text/plain": [
       "dict"
      ]
     },
     "execution_count": 79,
     "metadata": {},
     "output_type": "execute_result"
    }
   ],
   "source": [
    "type(name())"
   ]
  },
  {
   "cell_type": "markdown",
   "id": "9a9bf029",
   "metadata": {},
   "source": [
    "# Q3.  What is an iterator in python? Name the method used to initialise the iterator object and the method used for iteration. Use these methods to print the first five elements of the given list [2, 4, 6, 8, 10, 12, 14, 16, 18, 20]\n",
    "Ans-Python's Iteration protocol is used by loops, comprehensions, maps, etc. and supported by files, lists, dictionaries, generators, etc. Some objects are both iteration context and iterable objects such as map(), zip(), range() etc., while some objects are both iterable and iterator, which return themselves to the iter() method.\n"
   ]
  },
  {
   "cell_type": "code",
   "execution_count": 59,
   "id": "540bae9f",
   "metadata": {},
   "outputs": [
    {
     "name": "stdout",
     "output_type": "stream",
     "text": [
      "[2, 4, 6, 8, 10]\n"
     ]
    }
   ],
   "source": [
    "#\n",
    "h=[]\n",
    "l=[2, 4, 6, 8, 10, 12, 14, 16, 18, 20]\n",
    "for i in l:\n",
    "    if(i<=11):\n",
    "        h.append(i)\n",
    "      \n",
    "print(h)\n",
    "        \n",
    "        \n",
    "        \n",
    "       \n",
    "\n",
    "        \n",
    "        \n",
    "            \n",
    "            \n",
    "        "
   ]
  },
  {
   "cell_type": "markdown",
   "id": "e417c26a",
   "metadata": {},
   "source": [
    "# Q4- What is a generator function in python? Why yield keyword is used? Give an example of a generator function.?\n",
    "Ans-Generators are basically functions that return traversable objects or items. These functions do not produce all objects at once, but rather produce them at once and only when necessary. Whenever a repetition is included on a set of items, a generator function is run. Generators also have many advantages.\n"
   ]
  },
  {
   "cell_type": "markdown",
   "id": "24cd40fc",
   "metadata": {},
   "source": [
    "yield function-Yield is only legal inside the function definition, and including yield in the function definition returns this generator.\n",
    "\n",
    "The idea for generators comes from other languages (see footnote 1) with different implementations. In Python's generator, the execution of code at the point of yield is frozen. When the generator is called (methods are discussed below) the execution resumes and then accumulates at the next yield"
   ]
  },
  {
   "cell_type": "code",
   "execution_count": 43,
   "id": "8c22bbbb",
   "metadata": {},
   "outputs": [],
   "source": [
    "#yield  fuction example\n",
    "def val():\n",
    "    x,y=2,4\n",
    "    for i in range(1,3):\n",
    "        yield(x)\n",
    "        x,y=x,x\n",
    "        "
   ]
  },
  {
   "cell_type": "code",
   "execution_count": 44,
   "id": "5ee3a990",
   "metadata": {},
   "outputs": [
    {
     "data": {
      "text/plain": [
       "<generator object val at 0x0000013D7054FA50>"
      ]
     },
     "execution_count": 44,
     "metadata": {},
     "output_type": "execute_result"
    }
   ],
   "source": [
    "val()"
   ]
  },
  {
   "cell_type": "code",
   "execution_count": 42,
   "id": "9391bda5",
   "metadata": {},
   "outputs": [
    {
     "name": "stdout",
     "output_type": "stream",
     "text": [
      "2\n",
      "2\n"
     ]
    }
   ],
   "source": [
    "for i in val():\n",
    "    print(i)"
   ]
  },
  {
   "cell_type": "markdown",
   "id": "ea1b9c24",
   "metadata": {},
   "source": [
    "# Q5. Create a generator function for prime numbers less than 1000. Use the next() method to print the first 20 prime numbers?\n"
   ]
  },
  {
   "cell_type": "code",
   "execution_count": 25,
   "id": "5b7f517a",
   "metadata": {},
   "outputs": [
    {
     "name": "stdout",
     "output_type": "stream",
     "text": [
      "The print first 20 prime numbers is given qustion:\n",
      "2\n",
      "3\n",
      "5\n",
      "7\n",
      "11\n",
      "13\n",
      "17\n",
      "19\n",
      "23\n",
      "29\n",
      "31\n",
      "37\n",
      "41\n",
      "43\n",
      "47\n",
      "53\n",
      "59\n",
      "61\n",
      "67\n",
      "71\n"
     ]
    }
   ],
   "source": [
    "#the function of print first 20 prime no of given question\n",
    "def prime():\n",
    "    yield 2\n",
    "    prime_no = [2]\n",
    "    boy = 3\n",
    "    while boy < 1000:\n",
    "        is_Prime = True\n",
    "        for Prime in prime_no:\n",
    "            if boy % Prime == 0:\n",
    "                is_Prime = False\n",
    "                break\n",
    "        if is_Prime:\n",
    "            prime_no.append(boy)\n",
    "            yield boy\n",
    "        boy += 2\n",
    "\n",
    "prime_no = prime()\n",
    "\n",
    "print(\"The print first 20 prime numbers is given qustion:\")\n",
    "for i in range(20):\n",
    "    print(next(prime_no))\n",
    "    "
   ]
  },
  {
   "cell_type": "markdown",
   "id": "53028560",
   "metadata": {},
   "source": [
    "# Q6 Write a python program to print the first 10 Fibonacci numbers using a while loop?\n",
    "\n"
   ]
  },
  {
   "cell_type": "code",
   "execution_count": 25,
   "id": "3508e7b6",
   "metadata": {},
   "outputs": [
    {
     "name": "stdout",
     "output_type": "stream",
     "text": [
      "0\n",
      "1\n",
      "1\n",
      "2\n",
      "3\n",
      "5\n",
      "8\n",
      "13\n",
      "21\n",
      "34\n"
     ]
    }
   ],
   "source": [
    "a=0\n",
    "b=1\n",
    "c=0\n",
    "while(c<10):\n",
    "    print(a)\n",
    "    a,b=b,a+b\n",
    "    c+=1\n",
    "    "
   ]
  },
  {
   "cell_type": "markdown",
   "id": "dbebe7f0",
   "metadata": {},
   "source": [
    "# Q7-Write a List Comprehension to iterate through the given string: ‘pwskills’.\n",
    "\n",
    "Expected output: ['p', 'w', 's', 'k', 'i', 'l', 'l', 's'] "
   ]
  },
  {
   "cell_type": "code",
   "execution_count": 33,
   "id": "7be9ca94",
   "metadata": {},
   "outputs": [
    {
     "name": "stdout",
     "output_type": "stream",
     "text": [
      "['p', 'w', 's', 'k', 'i', 'l', 'l', 's']\n"
     ]
    }
   ],
   "source": [
    "p='pwskills'\n",
    "l=[love for love in p]\n",
    "print(l)"
   ]
  },
  {
   "cell_type": "markdown",
   "id": "8c93ad38",
   "metadata": {},
   "source": [
    "# Q8-Write a python program to check whether a given number is Palindrome or not using a while loop."
   ]
  },
  {
   "cell_type": "code",
   "execution_count": 6,
   "id": "1e1e909d",
   "metadata": {},
   "outputs": [
    {
     "name": "stdout",
     "output_type": "stream",
     "text": [
      "entre the value is palidrome or not:32\n",
      "given number is not palindrome\n"
     ]
    }
   ],
   "source": [
    "value=int(input(\"entre the value is palidrome or not:\"))\n",
    "rev=0\n",
    "a=value\n",
    "while(0<value):\n",
    "    rev=(rev*10)+value%10\n",
    "    value=value//10\n",
    "if(a==rev):\n",
    "    print(\"given number is palindrome\")\n",
    "else:\n",
    "    print(\"given number is not palindrome\")\n",
    "\n"
   ]
  },
  {
   "cell_type": "markdown",
   "id": "b7a50067",
   "metadata": {},
   "source": [
    "# Q9- Write a code to print odd numbers from 1 to 100 using list comprehension."
   ]
  },
  {
   "cell_type": "code",
   "execution_count": 17,
   "id": "a52536af",
   "metadata": {},
   "outputs": [
    {
     "data": {
      "text/plain": [
       "[1,\n",
       " 3,\n",
       " 5,\n",
       " 7,\n",
       " 9,\n",
       " 11,\n",
       " 13,\n",
       " 15,\n",
       " 17,\n",
       " 19,\n",
       " 21,\n",
       " 23,\n",
       " 25,\n",
       " 27,\n",
       " 29,\n",
       " 31,\n",
       " 33,\n",
       " 35,\n",
       " 37,\n",
       " 39,\n",
       " 41,\n",
       " 43,\n",
       " 45,\n",
       " 47,\n",
       " 49,\n",
       " 51,\n",
       " 53,\n",
       " 55,\n",
       " 57,\n",
       " 59,\n",
       " 61,\n",
       " 63,\n",
       " 65,\n",
       " 67,\n",
       " 69,\n",
       " 71,\n",
       " 73,\n",
       " 75,\n",
       " 77,\n",
       " 79,\n",
       " 81,\n",
       " 83,\n",
       " 85,\n",
       " 87,\n",
       " 89,\n",
       " 91,\n",
       " 93,\n",
       " 95,\n",
       " 97,\n",
       " 99]"
      ]
     },
     "execution_count": 17,
     "metadata": {},
     "output_type": "execute_result"
    }
   ],
   "source": [
    "odd_num=[i for i in range(1,101) if i%2!=0]\n",
    "odd_num"
   ]
  },
  {
   "cell_type": "code",
   "execution_count": null,
   "id": "843b2acf",
   "metadata": {},
   "outputs": [],
   "source": []
  }
 ],
 "metadata": {
  "kernelspec": {
   "display_name": "Python 3 (ipykernel)",
   "language": "python",
   "name": "python3"
  },
  "language_info": {
   "codemirror_mode": {
    "name": "ipython",
    "version": 3
   },
   "file_extension": ".py",
   "mimetype": "text/x-python",
   "name": "python",
   "nbconvert_exporter": "python",
   "pygments_lexer": "ipython3",
   "version": "3.9.12"
  }
 },
 "nbformat": 4,
 "nbformat_minor": 5
}
